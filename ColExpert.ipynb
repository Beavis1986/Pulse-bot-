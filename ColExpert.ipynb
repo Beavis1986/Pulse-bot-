{
  "nbformat": 4,
  "nbformat_minor": 0,
  "metadata": {
    "colab": {
      "provenance": [],
      "authorship_tag": "ABX9TyNbvO/N/yMCHHDBxPSSWdoh",
      "include_colab_link": true
    },
    "kernelspec": {
      "name": "python3",
      "display_name": "Python 3"
    },
    "language_info": {
      "name": "python"
    }
  },
  "cells": [
    {
      "cell_type": "markdown",
      "metadata": {
        "id": "view-in-github",
        "colab_type": "text"
      },
      "source": [
        "<a href=\"https://colab.research.google.com/github/Beavis1986/Pulse-bot-/blob/main/ColExpert.ipynb\" target=\"_parent\"><img src=\"https://colab.research.google.com/assets/colab-badge.svg\" alt=\"Open In Colab\"/></a>"
      ]
    },
    {
      "cell_type": "code",
      "source": [
        "\n",
        "from datetime import datetime\n",
        "\n",
        "# Automatically set today's date when the notebook runs\n",
        "end_date = datetime.now().strftime(\"%Y-%m-%d\")\n",
        "print(f\"📆 Auto-set end_date: {end_date}\")"
      ],
      "metadata": {
        "colab": {
          "base_uri": "https://localhost:8080/"
        },
        "id": "_0oCoYu41-Z7",
        "outputId": "417e6cf1-6407-4c8e-ba15-0961a489ceb6"
      },
      "execution_count": 1,
      "outputs": [
        {
          "output_type": "stream",
          "name": "stdout",
          "text": [
            "📆 Auto-set end_date: 2025-07-14\n"
          ]
        }
      ]
    },
    {
      "cell_type": "code",
      "source": [
        "\n",
        "# --- STREAMLIT DASHBOARD EXPORT ---\n",
        "!pip install streamlit --quiet\n",
        "\n",
        "with open(\"stock_dashboard.py\", \"w\") as f:\n",
        "    f.write('''\n",
        "import streamlit as st\n",
        "import pandas as pd\n",
        "import matplotlib.pyplot as plt\n",
        "\n",
        "st.title(\"Colexpert Strategy Dashboard\")\n",
        "\n",
        "log_df = pd.read_csv(\"signal_log.csv\", parse_dates=[\"Date\"])\n",
        "log_df.set_index(\"Date\", inplace=True)\n",
        "\n",
        "st.line_chart(log_df[[\"Cumulative Return\", \"Cumulative Vol-Weighted\", \"Cumulative Parlay\"]])\n",
        "\n",
        "st.dataframe(log_df.sort_values(\"Return\", ascending=False).head(15)[[\"Return\", \"Confidence\", \"Top (Buy)\", \"Bottom (Short)\"]])\n",
        "\n",
        "st.write(\"Latest Signal:\")\n",
        "latest = log_df.iloc[-1]\n",
        "st.success(f\"{latest.name.date()} | Confidence: {latest['Confidence']} | BUY: {latest['Top (Buy)']} | SHORT: {latest['Bottom (Short)']} | Return: {round(latest['Return']*100, 2)}%\")\n",
        "''')\n",
        "\n",
        "# Save log\n",
        "log_df.reset_index().to_csv(\"signal_log.csv\", index=False)\n",
        "print(\"✅ Dashboard code exported as stock_dashboard.py — run with: streamlit run stock_dashboard.py\")"
      ],
      "metadata": {
        "colab": {
          "base_uri": "https://localhost:8080/",
          "height": 855
        },
        "id": "J98QEA5s5rFe",
        "outputId": "ce147f5c-fa78-4a4a-9444-41ef7e930af8",
        "collapsed": true
      },
      "execution_count": 2,
      "outputs": [
        {
          "output_type": "stream",
          "name": "stdout",
          "text": [
            "\u001b[2K     \u001b[90m━━━━━━━━━━━━━━━━━━━━━━━━━━━━━━━━━━━━━━━━\u001b[0m \u001b[32m44.3/44.3 kB\u001b[0m \u001b[31m3.0 MB/s\u001b[0m eta \u001b[36m0:00:00\u001b[0m\n",
            "\u001b[2K   \u001b[90m━━━━━━━━━━━━━━━━━━━━━━━━━━━━━━━━━━━━━━━━\u001b[0m \u001b[32m10.1/10.1 MB\u001b[0m \u001b[31m77.5 MB/s\u001b[0m eta \u001b[36m0:00:00\u001b[0m\n",
            "\u001b[2K   \u001b[90m━━━━━━━━━━━━━━━━━━━━━━━━━━━━━━━━━━━━━━━━\u001b[0m \u001b[32m6.9/6.9 MB\u001b[0m \u001b[31m91.3 MB/s\u001b[0m eta \u001b[36m0:00:00\u001b[0m\n",
            "\u001b[2K   \u001b[90m━━━━━━━━━━━━━━━━━━━━━━━━━━━━━━━━━━━━━━━━\u001b[0m \u001b[32m79.1/79.1 kB\u001b[0m \u001b[31m5.7 MB/s\u001b[0m eta \u001b[36m0:00:00\u001b[0m\n",
            "\u001b[?25h"
          ]
        },
        {
          "output_type": "error",
          "ename": "NameError",
          "evalue": "name 'log_df' is not defined",
          "traceback": [
            "\u001b[0;31m---------------------------------------------------------------------------\u001b[0m",
            "\u001b[0;31mNameError\u001b[0m                                 Traceback (most recent call last)",
            "\u001b[0;32m/tmp/ipython-input-2-3072836775.py\u001b[0m in \u001b[0;36m<cell line: 0>\u001b[0;34m()\u001b[0m\n\u001b[1;32m     23\u001b[0m \u001b[0;34m\u001b[0m\u001b[0m\n\u001b[1;32m     24\u001b[0m \u001b[0;31m# Save log\u001b[0m\u001b[0;34m\u001b[0m\u001b[0;34m\u001b[0m\u001b[0m\n\u001b[0;32m---> 25\u001b[0;31m \u001b[0mlog_df\u001b[0m\u001b[0;34m.\u001b[0m\u001b[0mreset_index\u001b[0m\u001b[0;34m(\u001b[0m\u001b[0;34m)\u001b[0m\u001b[0;34m.\u001b[0m\u001b[0mto_csv\u001b[0m\u001b[0;34m(\u001b[0m\u001b[0;34m\"signal_log.csv\"\u001b[0m\u001b[0;34m,\u001b[0m \u001b[0mindex\u001b[0m\u001b[0;34m=\u001b[0m\u001b[0;32mFalse\u001b[0m\u001b[0;34m)\u001b[0m\u001b[0;34m\u001b[0m\u001b[0;34m\u001b[0m\u001b[0m\n\u001b[0m\u001b[1;32m     26\u001b[0m \u001b[0mprint\u001b[0m\u001b[0;34m(\u001b[0m\u001b[0;34m\"✅ Dashboard code exported as stock_dashboard.py — run with: streamlit run stock_dashboard.py\"\u001b[0m\u001b[0;34m)\u001b[0m\u001b[0;34m\u001b[0m\u001b[0;34m\u001b[0m\u001b[0m\n",
            "\u001b[0;31mNameError\u001b[0m: name 'log_df' is not defined"
          ]
        }
      ]
    },
    {
      "cell_type": "code",
      "execution_count": null,
      "metadata": {
        "id": "JBwu63fO2mwT"
      },
      "outputs": [],
      "source": [
        "\n",
        "# --- SETUP ---\n",
        "!pip install yfinance pandas numpy matplotlib --quiet\n",
        "\n",
        "import yfinance as yf\n",
        "import pandas as pd\n",
        "import numpy as np\n",
        "import matplotlib.pyplot as plt\n",
        "\n",
        "# --- CONFIG ---\n",
        "from datetime import datetime\n",
        "\n",
        "# Automatically set today's date when the notebook runs\n",
        "end_date = datetime.now().strftime(\"%Y-%m-%d\")\n",
        "print(f\"📆 Auto-set end_date: {end_date}\")\n",
        "\n",
        "# Toggle modules\n",
        "USE_STRATEGY_A = True\n",
        "USE_STRATEGY_B = True\n",
        "USE_STRATEGY_C = True\n",
        "USE_PARLAY_MODE = True\n",
        "USE_WEIGHTED_ARF_MIL = True\n",
        "USE_SIGNAL_PRINT = True\n",
        "\n",
        "# --- FETCH DATA ---\n",
        "data = yf.download(tickers, start=start_date, end=end_date)[\"Close\"].dropna()\n",
        "returns = data.pct_change().dropna()\n",
        "\n",
        "# --- STRATEGIES ---\n",
        "def strategy_a(df): return df.rolling(window=5).mean()\n",
        "def strategy_b(df): return -df.rolling(window=10).std()\n",
        "def strategy_c(df):\n",
        "    momentum = df.rolling(window=3).mean()\n",
        "    volatility = df.rolling(window=5).std()\n",
        "    return momentum / (volatility + 1e-6)\n",
        "\n",
        "def compute_arf_mil_weights(df):\n",
        "    entropy = -np.sum(df * np.log(df + 1e-9), axis=1)\n",
        "    return 1 / (1 + entropy)\n",
        "\n",
        "def compute_confidence_score(row):\n",
        "    if row[\"Return\"] > 0.09:\n",
        "        return \"HIGH\"\n",
        "    elif row[\"Return\"] > 0.05:\n",
        "        return \"MEDIUM\"\n",
        "    else:\n",
        "        return \"LOW\"\n",
        "\n",
        "# --- EXECUTE ENGINE ---\n",
        "log = []\n",
        "for i in range(20, len(returns)):\n",
        "    today = returns.index[i]\n",
        "    subset = returns.iloc[i-20:i]\n",
        "    scores = {}\n",
        "    if USE_STRATEGY_A:\n",
        "        scores[\"A\"] = strategy_a(subset).iloc[-1]\n",
        "    if USE_STRATEGY_B:\n",
        "        scores[\"B\"] = strategy_b(subset).iloc[-1]\n",
        "    if USE_STRATEGY_C:\n",
        "        scores[\"C\"] = strategy_c(subset).iloc[-1]\n",
        "\n",
        "    combined_score = sum(scores.values()) / len(scores)\n",
        "    top_assets = combined_score.sort_values(ascending=False).head(2).index.tolist()\n",
        "    bottom_assets = combined_score.sort_values().head(2).index.tolist()\n",
        "\n",
        "    daily_return = returns.iloc[i][top_assets].mean() - returns.iloc[i][bottom_assets].mean()\n",
        "\n",
        "    log.append({\n",
        "        \"Date\": today,\n",
        "        \"Return\": daily_return,\n",
        "        \"Top (Buy)\": \", \".join(top_assets),\n",
        "        \"Bottom (Short)\": \", \".join(bottom_assets),\n",
        "    })\n",
        "\n",
        "log_df = pd.DataFrame(log)\n",
        "log_df[\"Confidence\"] = log_df.apply(compute_confidence_score, axis=1)\n",
        "\n",
        "# Parlay mode\n",
        "if USE_PARLAY_MODE:\n",
        "    log_df[\"Parlay Return\"] = log_df[\"Return\"].rolling(2).apply(np.prod) - 1\n",
        "else:\n",
        "    log_df[\"Parlay Return\"] = 0\n",
        "\n",
        "# Weighting\n",
        "if USE_WEIGHTED_ARF_MIL:\n",
        "    weights = compute_arf_mil_weights(returns.rolling(3).mean().dropna())\n",
        "    weights = weights.reindex(log_df[\"Date\"]).fillna(1)\n",
        "    log_df[\"Weighted Return\"] = log_df[\"Return\"] * weights.values\n",
        "else:\n",
        "    log_df[\"Weighted Return\"] = log_df[\"Return\"]\n",
        "\n",
        "# Cumulative plots\n",
        "log_df.set_index(\"Date\", inplace=True)\n",
        "log_df[\"Cumulative Return\"] = (1 + log_df[\"Return\"]).cumprod()\n",
        "log_df[\"Cumulative Weighted Return\"] = (1 + log_df[\"Weighted Return\"]).cumprod()\n",
        "log_df[\"Cumulative Parlay\"] = (1 + log_df[\"Parlay Return\"].fillna(0)).cumprod()\n",
        "\n",
        "log_df[[\"Cumulative Return\", \"Cumulative Weighted Return\", \"Cumulative Parlay\"]].plot(\n",
        "    title=\"Colexpert Strategy Performance\", figsize=(12,6))\n",
        "plt.ylabel(\"Growth\")\n",
        "plt.grid(True)\n",
        "plt.tight_layout()\n",
        "plt.show()\n",
        "\n",
        "# Signal output\n",
        "if USE_SIGNAL_PRINT:\n",
        "    print(\"\\n🔥 Top Ranked Trade Days (by raw return):\")\n",
        "    display(log_df.sort_values(\"Return\", ascending=False).head(10)[[\"Return\", \"Confidence\", \"Top (Buy)\", \"Bottom (Short)\"]])\n",
        "\n",
        "    print(\"\\n📈 Today's Signal:\")\n",
        "    latest = log_df.iloc[-1]\n",
        "    print(f\"{latest.name.date()} | Confidence: {latest['Confidence']} | BUY: {latest['Top (Buy)']} | SHORT: {latest['Bottom (Short)']} | Return: {round(latest['Return']*100, 2)}%\")"
      ]
    },
    {
      "cell_type": "code",
      "source": [
        "\n",
        "# --- BACKTEST METRICS LAYER ---\n",
        "def backtest_metrics(df):\n",
        "    total_return = df[\"Cumulative Return\"].iloc[-1]\n",
        "    num_years = (df.index[-1] - df.index[0]).days / 365.25\n",
        "    cagr = total_return ** (1 / num_years) - 1\n",
        "    sharpe = df[\"Return\"].mean() / df[\"Return\"].std() * np.sqrt(252)\n",
        "    max_drawdown = (df[\"Cumulative Return\"].cummax() - df[\"Cumulative Return\"]).max()\n",
        "    return {\n",
        "        \"CAGR\": round(cagr * 100, 2),\n",
        "        \"Sharpe Ratio\": round(sharpe, 2),\n",
        "        \"Max Drawdown\": round(max_drawdown * 100, 2)\n",
        "    }\n",
        "\n",
        "# Apply to your main log_df\n",
        "metrics = backtest_metrics(log_df)\n",
        "print(\"📊 Backtest Performance:\")\n",
        "for k, v in metrics.items():\n",
        "    print(f\"{k}: {v}\")"
      ],
      "metadata": {
        "id": "WSLUGVCu5Hck"
      },
      "execution_count": null,
      "outputs": []
    },
    {
      "cell_type": "code",
      "source": [
        "\n",
        "# --- FIXED VOLATILITY WEIGHTING LAYER ---\n",
        "def apply_volatility_weights(df, returns, lookback=5):\n",
        "    volatility = returns.rolling(window=lookback).std()\n",
        "    avg_vol = volatility.mean(axis=1)\n",
        "    vol_weights = 1 / (1 + avg_vol)\n",
        "    vol_weights = vol_weights.reindex(df.index).bfill()\n",
        "    df[\"Volatility Weighted Return\"] = df[\"Return\"] * vol_weights\n",
        "    df[\"Cumulative Volatility Weighted\"] = (1 + df[\"Volatility Weighted Return\"]).cumprod()\n",
        "    return df\n",
        "\n",
        "log_df = apply_volatility_weights(log_df, returns)"
      ],
      "metadata": {
        "id": "Enoqsxb95RLq"
      },
      "execution_count": null,
      "outputs": []
    },
    {
      "cell_type": "code",
      "source": [
        "\n",
        "# --- FACTOR FILTER (STATIC SNAPSHOT) ---\n",
        "# You can expand this using real financials via APIs later\n",
        "low_vol_names = returns.std().sort_values().head(10).index.tolist()\n",
        "print(\"🧠 Conservative Strategy Top Picks (Low Volatility):\")\n",
        "print(low_vol_names)"
      ],
      "metadata": {
        "id": "MZJClSZ15erq"
      },
      "execution_count": null,
      "outputs": []
    },
    {
      "cell_type": "code",
      "source": [
        "\n",
        "# --- CORRELATION FILTER ---\n",
        "# Drop tickers with > 0.85 correlation to the benchmark\n",
        "cor_matrix = returns.corr()\n",
        "corr_to_spy = cor_matrix[\"AAPL\"]  # substitute for SPY\n",
        "low_corr_assets = corr_to_spy[corr_to_spy < 0.85].index.tolist()\n",
        "print(\"🧊 Low Correlation Assets Selected:\")\n",
        "print(low_corr_assets)"
      ],
      "metadata": {
        "id": "86Yww1Sz6kUU"
      },
      "execution_count": null,
      "outputs": []
    },
    {
      "cell_type": "code",
      "source": [
        "\n",
        "# --- CONFIDENCE SCORING ENHANCER ---\n",
        "confidence_weights = log_df[\"Confidence\"].map({\"LOW\": 0.3, \"MEDIUM\": 0.6, \"HIGH\": 1.0})\n",
        "log_df[\"Confidence Weighted Return\"] = log_df[\"Return\"] * confidence_weights\n",
        "log_df[\"Cumulative Confidence Weighted\"] = (1 + log_df[\"Confidence Weighted Return\"]).cumprod()"
      ],
      "metadata": {
        "id": "jnt7zL1y65VB"
      },
      "execution_count": null,
      "outputs": []
    },
    {
      "cell_type": "code",
      "source": [
        "\n",
        "# --- MACRO FILTER LAYER ---\n",
        "vix_proxy = returns.std(axis=1).rolling(5).mean()\n",
        "macro_filter = vix_proxy < vix_proxy.median()\n",
        "log_df[\"Macro Regime\"] = macro_filter.reindex(log_df.index).fillna(False)\n",
        "log_df[\"Macro Filtered Return\"] = log_df[\"Return\"] * log_df[\"Macro Regime\"]\n",
        "log_df[\"Cumulative Macro Filtered\"] = (1 + log_df[\"Macro Filtered Return\"]).cumprod()"
      ],
      "metadata": {
        "id": "YOogR2vU6u7z"
      },
      "execution_count": null,
      "outputs": []
    },
    {
      "cell_type": "code",
      "source": [
        "\n",
        "# --- MASTER COMPARISON PLOT (SAFE) ---\n",
        "columns_to_plot = [\n",
        "    \"Cumulative Return\",\n",
        "    \"Cumulative Weighted Return\",\n",
        "    \"Cumulative Volatility Weighted\",\n",
        "    \"Cumulative Confidence Weighted\",\n",
        "    \"Cumulative Macro Filtered\",\n",
        "    \"Cumulative Parlay\"\n",
        "]\n",
        "\n",
        "available = [col for col in columns_to_plot if col in log_df.columns]\n",
        "log_df[available].plot(title=\"📊 Colexpert Strategy Curve Comparison\", figsize=(14, 7))\n",
        "plt.ylabel(\"Growth\")\n",
        "plt.grid(True)\n",
        "plt.tight_layout()\n",
        "plt.show()"
      ],
      "metadata": {
        "id": "V-T4_PG77BX3"
      },
      "execution_count": null,
      "outputs": []
    },
    {
      "cell_type": "code",
      "source": [
        "\n",
        "# --- COLEXPERT MACHINE LEARNING UPGRADE ---\n",
        "\n",
        "!pip install xgboost scikit-learn seaborn --quiet\n",
        "\n",
        "from xgboost import XGBClassifier\n",
        "from sklearn.model_selection import train_test_split\n",
        "from sklearn.metrics import classification_report, confusion_matrix\n",
        "import seaborn as sns\n",
        "\n",
        "# --- 1. FEATURE ENGINEERING ---\n",
        "log_df[\"DayOfWeek\"] = log_df.index.dayofweek\n",
        "log_df[\"IsMacroSafe\"] = log_df.get(\"Macro Regime\", False).astype(int)\n",
        "log_df[\"Volatility\"] = returns.rolling(5).std().mean(axis=1).reindex(log_df.index).fillna(0)\n",
        "\n",
        "# Confidence encoding\n",
        "conf_map = {\"LOW\": 0, \"MEDIUM\": 1, \"HIGH\": 2}\n",
        "log_df[\"ConfidenceCode\"] = log_df[\"Confidence\"].map(conf_map).fillna(0)\n",
        "\n",
        "# --- 2. LABELING ---\n",
        "log_df[\"GoodTrade\"] = (log_df[\"Return\"] > 0.01).astype(int)\n",
        "\n",
        "# --- 3. TRAIN TEST SPLIT ---\n",
        "features = [\"ConfidenceCode\", \"IsMacroSafe\", \"DayOfWeek\", \"Volatility\"]\n",
        "X = log_df[features]\n",
        "y = log_df[\"GoodTrade\"]\n",
        "\n",
        "X_train, X_test, y_train, y_test = train_test_split(X, y, test_size=0.25, random_state=42)\n",
        "\n",
        "# --- 4. MODEL TRAINING ---\n",
        "model = XGBClassifier(use_label_encoder=False, eval_metric='logloss')\n",
        "model.fit(X_train, y_train)\n",
        "\n",
        "# --- 5. EVALUATION ---\n",
        "print(\"🔍 Model Evaluation:\")\n",
        "print(classification_report(y_test, model.predict(X_test)))\n",
        "\n",
        "cm = confusion_matrix(y_test, model.predict(X_test))\n",
        "sns.heatmap(cm, annot=True, fmt='d', cmap='Blues', xticklabels=[\"Bad\", \"Good\"], yticklabels=[\"Bad\", \"Good\"])\n",
        "plt.title(\"🧠 Colexpert ML Confusion Matrix\")\n",
        "plt.xlabel(\"Predicted\")\n",
        "plt.ylabel(\"Actual\")\n",
        "plt.show()\n",
        "\n",
        "# --- 6. APPLY TO TODAY'S SIGNAL ---\n",
        "today_row = log_df.iloc[-1]\n",
        "today_features = [[\n",
        "    conf_map.get(today_row[\"Confidence\"], 0),\n",
        "    int(today_row.get(\"IsMacroSafe\", 0)),\n",
        "    today_row.name.dayofweek,\n",
        "    log_df[\"Volatility\"].iloc[-1]\n",
        "]]\n",
        "\n",
        "prediction = model.predict(today_features)[0]\n",
        "proba = model.predict_proba(today_features)[0][1]\n",
        "\n",
        "# --- 7. DECISION ASSIST ---\n",
        "print(f\"📈 Today's ML Prediction: {'✅ GOOD' if prediction else '❌ BAD'} | Confidence Score: {round(proba * 100, 1)}%\")\n",
        "print(f\"Buy: {today_row['Top (Buy)']} | Short: {today_row['Bottom (Short)']} | Return: {round(today_row['Return']*100,2)}%\")"
      ],
      "metadata": {
        "id": "WTDX_lz-4Zfl"
      },
      "execution_count": null,
      "outputs": []
    },
    {
      "cell_type": "code",
      "source": [
        "\n",
        "# 📘 ColExpert AutoLogger v1.0 — Logs Every Prediction Run\n",
        "\n",
        "import os\n",
        "import pandas as pd\n",
        "from datetime import datetime\n",
        "\n",
        "# --- CONFIG ---\n",
        "LOG_PATH = \"colexpert_run_log.csv\"\n",
        "MODEL_VERSION = \"v1.0\"\n",
        "\n",
        "def log_run(summary_dict):\n",
        "    \"\"\"Appends a log row to CSV after each prediction\"\"\"\n",
        "    log_row = {\n",
        "        \"timestamp\": datetime.now().strftime(\"%Y-%m-%d %H:%M:%S\"),\n",
        "        \"model_version\": MODEL_VERSION,\n",
        "        \"num_assets\": summary_dict.get(\"num_assets\"),\n",
        "        \"top_buys\": \", \".join(summary_dict.get(\"top_buys\", [])),\n",
        "        \"top_shorts\": \", \".join(summary_dict.get(\"top_shorts\", [])),\n",
        "        \"signal_strength\": summary_dict.get(\"signal_strength\", \"-\"),\n",
        "        \"confidence_score\": round(summary_dict.get(\"confidence_score\", 0), 3),\n",
        "        \"model_accuracy\": round(summary_dict.get(\"accuracy\", 0), 3)\n",
        "    }\n",
        "\n",
        "    log_df = pd.DataFrame([log_row])\n",
        "    if os.path.exists(LOG_PATH):\n",
        "        log_df.to_csv(LOG_PATH, mode=\"a\", header=False, index=False)\n",
        "    else:\n",
        "        log_df.to_csv(LOG_PATH, index=False)\n",
        "    print(f\"📝 ColExpert Run Logged to → {LOG_PATH}\")"
      ],
      "metadata": {
        "id": "Tpzq4ZDA8FNP"
      },
      "execution_count": null,
      "outputs": []
    }
  ]
}